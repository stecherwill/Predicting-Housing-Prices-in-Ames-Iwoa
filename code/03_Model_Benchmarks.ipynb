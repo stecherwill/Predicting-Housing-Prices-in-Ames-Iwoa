{
 "cells": [
  {
   "cell_type": "markdown",
   "metadata": {},
   "source": [
    "## Model Benchmarks"
   ]
  },
  {
   "cell_type": "markdown",
   "metadata": {},
   "source": [
    "#### External Libraries"
   ]
  },
  {
   "cell_type": "code",
   "execution_count": 1,
   "metadata": {},
   "outputs": [
    {
     "name": "stderr",
     "output_type": "stream",
     "text": [
      "/anaconda3/envs/dsi/lib/python3.6/site-packages/statsmodels/compat/pandas.py:56: FutureWarning: The pandas.core.datetools module is deprecated and will be removed in a future version. Please use the pandas.tseries module instead.\n",
      "  from pandas.core import datetools\n"
     ]
    }
   ],
   "source": [
    "import pandas as pd\n",
    "import numpy as np\n",
    "import matplotlib.pyplot as plt\n",
    "import statsmodels.api as sm\n",
    "import seaborn as sns\n",
    "from sklearn.linear_model import LinearRegression, LassoCV, RidgeCV\n",
    "from sklearn.preprocessing import StandardScaler, PolynomialFeatures\n",
    "from sklearn.model_selection import train_test_split, cross_val_score, KFold\n",
    "from sklearn.metrics import r2_score\n",
    "\n",
    "%matplotlib inline"
   ]
  },
  {
   "cell_type": "markdown",
   "metadata": {},
   "source": [
    "#### Read in Data"
   ]
  },
  {
   "cell_type": "code",
   "execution_count": 2,
   "metadata": {},
   "outputs": [],
   "source": [
    "clean_train = pd.read_csv('../data/EDA_Preprocessing_train.csv')"
   ]
  },
  {
   "cell_type": "code",
   "execution_count": 3,
   "metadata": {},
   "outputs": [],
   "source": [
    "clean_test = pd.read_csv('../data/EDA_Preprocessing_test.csv')"
   ]
  },
  {
   "cell_type": "markdown",
   "metadata": {},
   "source": [
    "### First Multiple Linear Regression Model"
   ]
  },
  {
   "cell_type": "markdown",
   "metadata": {},
   "source": [
    "- Running Train Test Split with my selected features"
   ]
  },
  {
   "cell_type": "code",
   "execution_count": 4,
   "metadata": {},
   "outputs": [],
   "source": [
    "features = ['overall_qual', 'total_sf','neighborhood', 'exter_qual', 'bsmt_qual', 'kitchen_qual', 'gr_liv_area',\n",
    "            'garage_cars', 'garage_finish','fireplace_qu', 'full_bath', 'foundation', 'garage_type','mas_vnr_area']\n",
    "X = clean_train[features]\n",
    "y =  clean_train[['saleprice']]\n",
    "\n",
    "X_train, X_test, y_train, y_test = train_test_split(X, y, test_size = 0.3,random_state = 69)"
   ]
  },
  {
   "cell_type": "markdown",
   "metadata": {},
   "source": [
    "- Fitting the Linear Regression Model\n",
    "- Producing Cross Value Score"
   ]
  },
  {
   "cell_type": "code",
   "execution_count": 5,
   "metadata": {},
   "outputs": [
    {
     "name": "stdout",
     "output_type": "stream",
     "text": [
      "Linear Regression Cross Value Score 0.8609544499575532\n"
     ]
    }
   ],
   "source": [
    "lr = LinearRegression()\n",
    "lr.fit(X_train, y_train)\n",
    "lr_cv = cross_val_score(lr, X_train, y_train, cv=10).mean()\n",
    "print('Linear Regression Cross Value Score {}' .format(lr_cv))"
   ]
  },
  {
   "cell_type": "markdown",
   "metadata": {},
   "source": [
    "- This is a relativley good baseline score for being the first and simplest model."
   ]
  },
  {
   "cell_type": "code",
   "execution_count": 6,
   "metadata": {},
   "outputs": [
    {
     "name": "stdout",
     "output_type": "stream",
     "text": [
      "Linear Regression Cross Value Score 0.8716947879843181\n"
     ]
    }
   ],
   "source": [
    "lr_cv = cross_val_score(lr, X_test, y_test, cv=10).mean()\n",
    "print('Linear Regression Cross Value Score {}' .format(lr_cv))"
   ]
  },
  {
   "cell_type": "markdown",
   "metadata": {},
   "source": [
    "- Looking at these first produced cross value scores this model is barely overfit. As the test cross value score is lower than the training. "
   ]
  },
  {
   "cell_type": "code",
   "execution_count": 7,
   "metadata": {},
   "outputs": [
    {
     "data": {
      "text/html": [
       "<table class=\"simpletable\">\n",
       "<caption>OLS Regression Results</caption>\n",
       "<tr>\n",
       "  <th>Dep. Variable:</th>        <td>saleprice</td>    <th>  R-squared:         </th> <td>   0.875</td> \n",
       "</tr>\n",
       "<tr>\n",
       "  <th>Model:</th>                   <td>OLS</td>       <th>  Adj. R-squared:    </th> <td>   0.874</td> \n",
       "</tr>\n",
       "<tr>\n",
       "  <th>Method:</th>             <td>Least Squares</td>  <th>  F-statistic:       </th> <td>   1016.</td> \n",
       "</tr>\n",
       "<tr>\n",
       "  <th>Date:</th>             <td>Fri, 07 Dec 2018</td> <th>  Prob (F-statistic):</th>  <td>  0.00</td>  \n",
       "</tr>\n",
       "<tr>\n",
       "  <th>Time:</th>                 <td>09:45:44</td>     <th>  Log-Likelihood:    </th> <td> -23892.</td> \n",
       "</tr>\n",
       "<tr>\n",
       "  <th>No. Observations:</th>      <td>  2049</td>      <th>  AIC:               </th> <td>4.781e+04</td>\n",
       "</tr>\n",
       "<tr>\n",
       "  <th>Df Residuals:</th>          <td>  2034</td>      <th>  BIC:               </th> <td>4.790e+04</td>\n",
       "</tr>\n",
       "<tr>\n",
       "  <th>Df Model:</th>              <td>    14</td>      <th>                     </th>     <td> </td>    \n",
       "</tr>\n",
       "<tr>\n",
       "  <th>Covariance Type:</th>      <td>nonrobust</td>    <th>                     </th>     <td> </td>    \n",
       "</tr>\n",
       "</table>\n",
       "<table class=\"simpletable\">\n",
       "<tr>\n",
       "        <td></td>           <th>coef</th>     <th>std err</th>      <th>t</th>      <th>P>|t|</th>  <th>[0.025</th>    <th>0.975]</th>  \n",
       "</tr>\n",
       "<tr>\n",
       "  <th>const</th>         <td>-1.156e+05</td> <td> 3966.477</td> <td>  -29.135</td> <td> 0.000</td> <td>-1.23e+05</td> <td>-1.08e+05</td>\n",
       "</tr>\n",
       "<tr>\n",
       "  <th>overall_qual</th>  <td> 7108.2063</td> <td>  817.077</td> <td>    8.700</td> <td> 0.000</td> <td> 5505.812</td> <td> 8710.601</td>\n",
       "</tr>\n",
       "<tr>\n",
       "  <th>total_sf</th>      <td>   32.1675</td> <td>    1.839</td> <td>   17.488</td> <td> 0.000</td> <td>   28.560</td> <td>   35.775</td>\n",
       "</tr>\n",
       "<tr>\n",
       "  <th>neighborhood</th>  <td> 5.876e+04</td> <td> 5756.250</td> <td>   10.208</td> <td> 0.000</td> <td> 4.75e+04</td> <td>    7e+04</td>\n",
       "</tr>\n",
       "<tr>\n",
       "  <th>exter_qual</th>    <td> 5.131e+04</td> <td> 7168.525</td> <td>    7.157</td> <td> 0.000</td> <td> 3.72e+04</td> <td> 6.54e+04</td>\n",
       "</tr>\n",
       "<tr>\n",
       "  <th>bsmt_qual</th>     <td> 5.712e+04</td> <td> 5895.392</td> <td>    9.688</td> <td> 0.000</td> <td> 4.56e+04</td> <td> 6.87e+04</td>\n",
       "</tr>\n",
       "<tr>\n",
       "  <th>kitchen_qual</th>  <td>  5.97e+04</td> <td> 5860.648</td> <td>   10.187</td> <td> 0.000</td> <td> 4.82e+04</td> <td> 7.12e+04</td>\n",
       "</tr>\n",
       "<tr>\n",
       "  <th>gr_liv_area</th>   <td>   19.8876</td> <td>    2.713</td> <td>    7.330</td> <td> 0.000</td> <td>   14.567</td> <td>   25.208</td>\n",
       "</tr>\n",
       "<tr>\n",
       "  <th>garage_cars</th>   <td> 6417.3347</td> <td> 1140.778</td> <td>    5.625</td> <td> 0.000</td> <td> 4180.120</td> <td> 8654.549</td>\n",
       "</tr>\n",
       "<tr>\n",
       "  <th>garage_finish</th> <td> 8153.9154</td> <td> 5141.185</td> <td>    1.586</td> <td> 0.113</td> <td>-1928.622</td> <td> 1.82e+04</td>\n",
       "</tr>\n",
       "<tr>\n",
       "  <th>fireplace_qu</th>  <td> 2.922e+04</td> <td> 5826.489</td> <td>    5.016</td> <td> 0.000</td> <td> 1.78e+04</td> <td> 4.06e+04</td>\n",
       "</tr>\n",
       "<tr>\n",
       "  <th>full_bath</th>     <td>-8702.7070</td> <td> 1587.669</td> <td>   -5.481</td> <td> 0.000</td> <td>-1.18e+04</td> <td>-5589.080</td>\n",
       "</tr>\n",
       "<tr>\n",
       "  <th>foundation</th>    <td>-1.043e+04</td> <td> 4782.941</td> <td>   -2.180</td> <td> 0.029</td> <td>-1.98e+04</td> <td>-1047.542</td>\n",
       "</tr>\n",
       "<tr>\n",
       "  <th>garage_type</th>   <td> 9471.8250</td> <td> 5426.570</td> <td>    1.745</td> <td> 0.081</td> <td>-1170.390</td> <td> 2.01e+04</td>\n",
       "</tr>\n",
       "<tr>\n",
       "  <th>mas_vnr_area</th>  <td>   28.3588</td> <td>    4.230</td> <td>    6.704</td> <td> 0.000</td> <td>   20.063</td> <td>   36.654</td>\n",
       "</tr>\n",
       "</table>\n",
       "<table class=\"simpletable\">\n",
       "<tr>\n",
       "  <th>Omnibus:</th>       <td>434.925</td> <th>  Durbin-Watson:     </th> <td>   2.026</td>\n",
       "</tr>\n",
       "<tr>\n",
       "  <th>Prob(Omnibus):</th> <td> 0.000</td>  <th>  Jarque-Bera (JB):  </th> <td>3843.862</td>\n",
       "</tr>\n",
       "<tr>\n",
       "  <th>Skew:</th>          <td> 0.741</td>  <th>  Prob(JB):          </th> <td>    0.00</td>\n",
       "</tr>\n",
       "<tr>\n",
       "  <th>Kurtosis:</th>      <td> 9.544</td>  <th>  Cond. No.          </th> <td>3.92e+04</td>\n",
       "</tr>\n",
       "</table>"
      ],
      "text/plain": [
       "<class 'statsmodels.iolib.summary.Summary'>\n",
       "\"\"\"\n",
       "                            OLS Regression Results                            \n",
       "==============================================================================\n",
       "Dep. Variable:              saleprice   R-squared:                       0.875\n",
       "Model:                            OLS   Adj. R-squared:                  0.874\n",
       "Method:                 Least Squares   F-statistic:                     1016.\n",
       "Date:                Fri, 07 Dec 2018   Prob (F-statistic):               0.00\n",
       "Time:                        09:45:44   Log-Likelihood:                -23892.\n",
       "No. Observations:                2049   AIC:                         4.781e+04\n",
       "Df Residuals:                    2034   BIC:                         4.790e+04\n",
       "Df Model:                          14                                         \n",
       "Covariance Type:            nonrobust                                         \n",
       "=================================================================================\n",
       "                    coef    std err          t      P>|t|      [0.025      0.975]\n",
       "---------------------------------------------------------------------------------\n",
       "const         -1.156e+05   3966.477    -29.135      0.000   -1.23e+05   -1.08e+05\n",
       "overall_qual   7108.2063    817.077      8.700      0.000    5505.812    8710.601\n",
       "total_sf         32.1675      1.839     17.488      0.000      28.560      35.775\n",
       "neighborhood   5.876e+04   5756.250     10.208      0.000    4.75e+04       7e+04\n",
       "exter_qual     5.131e+04   7168.525      7.157      0.000    3.72e+04    6.54e+04\n",
       "bsmt_qual      5.712e+04   5895.392      9.688      0.000    4.56e+04    6.87e+04\n",
       "kitchen_qual    5.97e+04   5860.648     10.187      0.000    4.82e+04    7.12e+04\n",
       "gr_liv_area      19.8876      2.713      7.330      0.000      14.567      25.208\n",
       "garage_cars    6417.3347   1140.778      5.625      0.000    4180.120    8654.549\n",
       "garage_finish  8153.9154   5141.185      1.586      0.113   -1928.622    1.82e+04\n",
       "fireplace_qu   2.922e+04   5826.489      5.016      0.000    1.78e+04    4.06e+04\n",
       "full_bath     -8702.7070   1587.669     -5.481      0.000   -1.18e+04   -5589.080\n",
       "foundation    -1.043e+04   4782.941     -2.180      0.029   -1.98e+04   -1047.542\n",
       "garage_type    9471.8250   5426.570      1.745      0.081   -1170.390    2.01e+04\n",
       "mas_vnr_area     28.3588      4.230      6.704      0.000      20.063      36.654\n",
       "==============================================================================\n",
       "Omnibus:                      434.925   Durbin-Watson:                   2.026\n",
       "Prob(Omnibus):                  0.000   Jarque-Bera (JB):             3843.862\n",
       "Skew:                           0.741   Prob(JB):                         0.00\n",
       "Kurtosis:                       9.544   Cond. No.                     3.92e+04\n",
       "==============================================================================\n",
       "\n",
       "Warnings:\n",
       "[1] Standard Errors assume that the covariance matrix of the errors is correctly specified.\n",
       "[2] The condition number is large, 3.92e+04. This might indicate that there are\n",
       "strong multicollinearity or other numerical problems.\n",
       "\"\"\""
      ]
     },
     "execution_count": 7,
     "metadata": {},
     "output_type": "execute_result"
    }
   ],
   "source": [
    "X = sm.add_constant(X)\n",
    "model = sm.OLS(y , X).fit()\n",
    "model.summary()"
   ]
  },
  {
   "cell_type": "markdown",
   "metadata": {},
   "source": [
    "### Understanding of Key Metrics:\n",
    "- Neighborhoods has the largest coef which, means as one unit of that variable increases that is how much the housing price will increase.\n",
    "- There is one P value above 0.1(garage_finish), this would mean that this feature may not have any affect on the sale price.\n",
    "- Interesting how full bathrooms and foundation coefficients are negative which would infer that these decrease sale price.  \n",
    "    "
   ]
  },
  {
   "cell_type": "markdown",
   "metadata": {},
   "source": [
    "### Saving Data"
   ]
  },
  {
   "cell_type": "code",
   "execution_count": 8,
   "metadata": {},
   "outputs": [],
   "source": [
    "clean_train.to_csv('../data/Model_Benchmarks_train.csv', index=False)"
   ]
  },
  {
   "cell_type": "code",
   "execution_count": 9,
   "metadata": {},
   "outputs": [],
   "source": [
    "clean_test.to_csv('../data/Model_Benchmarks_test.csv', index=False)"
   ]
  },
  {
   "cell_type": "code",
   "execution_count": null,
   "metadata": {},
   "outputs": [],
   "source": []
  }
 ],
 "metadata": {
  "kernelspec": {
   "display_name": "Python [conda env:dsi]",
   "language": "python",
   "name": "conda-env-dsi-py"
  },
  "language_info": {
   "codemirror_mode": {
    "name": "ipython",
    "version": 3
   },
   "file_extension": ".py",
   "mimetype": "text/x-python",
   "name": "python",
   "nbconvert_exporter": "python",
   "pygments_lexer": "ipython3",
   "version": "3.6.5"
  }
 },
 "nbformat": 4,
 "nbformat_minor": 2
}
