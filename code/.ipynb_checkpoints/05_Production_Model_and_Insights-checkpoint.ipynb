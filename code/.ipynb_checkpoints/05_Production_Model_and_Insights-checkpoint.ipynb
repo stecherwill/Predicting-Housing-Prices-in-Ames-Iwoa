{
 "cells": [
  {
   "cell_type": "markdown",
   "metadata": {},
   "source": [
    "#### External Libraries"
   ]
  },
  {
   "cell_type": "code",
   "execution_count": 1,
   "metadata": {},
   "outputs": [],
   "source": [
    "import pandas as pd\n",
    "import numpy as np\n",
    "from sklearn.linear_model import RidgeCV\n",
    "from sklearn.preprocessing import StandardScaler, PolynomialFeatures\n",
    "from sklearn.metrics import r2_score\n",
    "import warnings\n",
    "warnings.filterwarnings('ignore')"
   ]
  },
  {
   "cell_type": "markdown",
   "metadata": {},
   "source": [
    "#### Reading in Data"
   ]
  },
  {
   "cell_type": "code",
   "execution_count": 2,
   "metadata": {},
   "outputs": [],
   "source": [
    "clean_train = pd.read_csv('../data/Model_Benchmarks_train.csv')"
   ]
  },
  {
   "cell_type": "markdown",
   "metadata": {},
   "source": [
    "#### Features List"
   ]
  },
  {
   "cell_type": "code",
   "execution_count": 3,
   "metadata": {},
   "outputs": [],
   "source": [
    "features = ['overall_qual', 'total_sf','neighborhood', 'exter_qual', 'bsmt_qual', 'kitchen_qual', 'gr_liv_area',\n",
    "            'garage_cars', 'garage_finish','fireplace_qu', 'full_bath', 'foundation', 'garage_type','mas_vnr_area']"
   ]
  },
  {
   "cell_type": "markdown",
   "metadata": {},
   "source": [
    "## Final Model"
   ]
  },
  {
   "cell_type": "markdown",
   "metadata": {},
   "source": [
    "#### Transform and Scale Data"
   ]
  },
  {
   "cell_type": "code",
   "execution_count": 4,
   "metadata": {},
   "outputs": [],
   "source": [
    "X = clean_train[features]\n",
    "y =  clean_train[['saleprice']]\n",
    "\n",
    "poly = PolynomialFeatures(include_bias = False)\n",
    "X_poly = poly.fit_transform(X)\n",
    "X_poly = pd.DataFrame(X_poly, columns = poly.get_feature_names(features))\n",
    "features = X_poly.columns\n",
    "\n",
    "ss = StandardScaler()\n",
    "X_poly_sc =ss.fit_transform(X_poly)"
   ]
  },
  {
   "cell_type": "markdown",
   "metadata": {},
   "source": [
    "#### Fit Model"
   ]
  },
  {
   "cell_type": "code",
   "execution_count": 5,
   "metadata": {},
   "outputs": [
    {
     "name": "stdout",
     "output_type": "stream",
     "text": [
      "Ridge Final Model Produces an R2 value of 90.27%.\n"
     ]
    }
   ],
   "source": [
    "ridge = RidgeCV()\n",
    "ridge.fit(X_poly_sc, y)\n",
    "y_hat = ridge.predict(X_poly_sc)\n",
    "R2 = r2_score(y_hat, y)\n",
    "print('Ridge Final Model Produces an R2 value of {}%.'.format(round((R2 * 100),2)))"
   ]
  },
  {
   "cell_type": "markdown",
   "metadata": {},
   "source": [
    "- This model explains 90.27% variability of all the data around its mean."
   ]
  },
  {
   "cell_type": "markdown",
   "metadata": {},
   "source": [
    "### DataFrame of Strong Coefficients"
   ]
  },
  {
   "cell_type": "code",
   "execution_count": 6,
   "metadata": {},
   "outputs": [],
   "source": [
    "final_model = pd.DataFrame(ridge.coef_)\n",
    "final_model = final_model.T\n",
    "final_model['abs_coefs'] = pd.DataFrame(abs(ridge.coef_)).T\n",
    "final_model['coefs'] = pd.DataFrame(ridge.coef_).T\n",
    "final_model.index = X_poly.columns\n",
    "final_model = final_model.sort_values('abs_coefs', ascending=False)\n",
    "final_model.drop(0, axis=1, inplace=True)\n"
   ]
  },
  {
   "cell_type": "code",
   "execution_count": 7,
   "metadata": {},
   "outputs": [
    {
     "data": {
      "text/html": [
       "<div>\n",
       "<style scoped>\n",
       "    .dataframe tbody tr th:only-of-type {\n",
       "        vertical-align: middle;\n",
       "    }\n",
       "\n",
       "    .dataframe tbody tr th {\n",
       "        vertical-align: top;\n",
       "    }\n",
       "\n",
       "    .dataframe thead th {\n",
       "        text-align: right;\n",
       "    }\n",
       "</style>\n",
       "<table border=\"1\" class=\"dataframe\">\n",
       "  <thead>\n",
       "    <tr style=\"text-align: right;\">\n",
       "      <th></th>\n",
       "      <th>abs_coefs</th>\n",
       "      <th>coefs</th>\n",
       "    </tr>\n",
       "  </thead>\n",
       "  <tbody>\n",
       "    <tr>\n",
       "      <th>total_sf bsmt_qual</th>\n",
       "      <td>19858.582866</td>\n",
       "      <td>19858.582866</td>\n",
       "    </tr>\n",
       "    <tr>\n",
       "      <th>neighborhood^2</th>\n",
       "      <td>18507.833858</td>\n",
       "      <td>-18507.833858</td>\n",
       "    </tr>\n",
       "    <tr>\n",
       "      <th>neighborhood</th>\n",
       "      <td>17826.105014</td>\n",
       "      <td>17826.105014</td>\n",
       "    </tr>\n",
       "    <tr>\n",
       "      <th>total_sf</th>\n",
       "      <td>13217.091293</td>\n",
       "      <td>-13217.091293</td>\n",
       "    </tr>\n",
       "    <tr>\n",
       "      <th>total_sf exter_qual</th>\n",
       "      <td>12891.675565</td>\n",
       "      <td>12891.675565</td>\n",
       "    </tr>\n",
       "    <tr>\n",
       "      <th>exter_qual foundation</th>\n",
       "      <td>12784.197491</td>\n",
       "      <td>-12784.197491</td>\n",
       "    </tr>\n",
       "    <tr>\n",
       "      <th>total_sf kitchen_qual</th>\n",
       "      <td>12611.544428</td>\n",
       "      <td>12611.544428</td>\n",
       "    </tr>\n",
       "    <tr>\n",
       "      <th>full_bath^2</th>\n",
       "      <td>12429.712046</td>\n",
       "      <td>12429.712046</td>\n",
       "    </tr>\n",
       "    <tr>\n",
       "      <th>kitchen_qual garage_cars</th>\n",
       "      <td>12379.810840</td>\n",
       "      <td>12379.810840</td>\n",
       "    </tr>\n",
       "    <tr>\n",
       "      <th>gr_liv_area</th>\n",
       "      <td>11847.533124</td>\n",
       "      <td>-11847.533124</td>\n",
       "    </tr>\n",
       "    <tr>\n",
       "      <th>neighborhood kitchen_qual</th>\n",
       "      <td>11485.574577</td>\n",
       "      <td>-11485.574577</td>\n",
       "    </tr>\n",
       "    <tr>\n",
       "      <th>garage_type</th>\n",
       "      <td>11348.867470</td>\n",
       "      <td>11348.867470</td>\n",
       "    </tr>\n",
       "  </tbody>\n",
       "</table>\n",
       "</div>"
      ],
      "text/plain": [
       "                              abs_coefs         coefs\n",
       "total_sf bsmt_qual         19858.582866  19858.582866\n",
       "neighborhood^2             18507.833858 -18507.833858\n",
       "neighborhood               17826.105014  17826.105014\n",
       "total_sf                   13217.091293 -13217.091293\n",
       "total_sf exter_qual        12891.675565  12891.675565\n",
       "exter_qual foundation      12784.197491 -12784.197491\n",
       "total_sf kitchen_qual      12611.544428  12611.544428\n",
       "full_bath^2                12429.712046  12429.712046\n",
       "kitchen_qual garage_cars   12379.810840  12379.810840\n",
       "gr_liv_area                11847.533124 -11847.533124\n",
       "neighborhood kitchen_qual  11485.574577 -11485.574577\n",
       "garage_type                11348.867470  11348.867470"
      ]
     },
     "execution_count": 7,
     "metadata": {},
     "output_type": "execute_result"
    }
   ],
   "source": [
    "final_model.head(12)"
   ]
  },
  {
   "cell_type": "markdown",
   "metadata": {},
   "source": [
    "### Coefs Insights:"
   ]
  },
  {
   "cell_type": "markdown",
   "metadata": {},
   "source": [
    "- Top 5 coefs total_sf bsmt_qual, neighborhood^2, neighborhood, total_sf, and total_sf exter_qual\n",
    "- For every one unit increase for these coefs sale prices will increase corresponding to the coef\n",
    "- Creating the feature interaction of total_sf turned out to be a strong predictor when determining sale price \n",
    "- Which neighborhood a house is located in has a strong impact on sale price\n",
    "- Features dealing with quality are key when predicting sale price\n",
    "- Final R2 score is 90.27% which explains the variability of all the data around its mean."
   ]
  },
  {
   "cell_type": "code",
   "execution_count": null,
   "metadata": {},
   "outputs": [],
   "source": []
  }
 ],
 "metadata": {
  "kernelspec": {
   "display_name": "Python 3",
   "language": "python",
   "name": "python3"
  },
  "language_info": {
   "codemirror_mode": {
    "name": "ipython",
    "version": 3
   },
   "file_extension": ".py",
   "mimetype": "text/x-python",
   "name": "python",
   "nbconvert_exporter": "python",
   "pygments_lexer": "ipython3",
   "version": "3.6.5"
  }
 },
 "nbformat": 4,
 "nbformat_minor": 2
}
